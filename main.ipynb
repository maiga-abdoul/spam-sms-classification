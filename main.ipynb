{
 "cells": [
  {
   "cell_type": "code",
   "execution_count": 8,
   "id": "6241ac42-4c29-4d12-8ef0-8203d7a6467b",
   "metadata": {},
   "outputs": [
    {
     "name": "stdout",
     "output_type": "stream",
     "text": [
      "Done\n"
     ]
    }
   ],
   "source": [
    "# Import Necessary Libraries\n",
    "import numpy as np\n",
    "import pandas as pd\n",
    "import matplotlib.pyplot as plt\n",
    "import seaborn as sns\n",
    "from sklearn.model_selection import train_test_split\n",
    "from sklearn.feature_extraction.text import TfidfVectorizer\n",
    "from sklearn.linear_model import LogisticRegression\n",
    "from sklearn.metrics import classification_report, confusion_matrix, accuracy_score\n",
    "from imblearn.over_sampling import SMOTE\n",
    "import nltk\n",
    "from nltk.corpus import stopwords\n",
    "from nltk.stem import PorterStemmer\n",
    "import re\n",
    "import tensorflow as tf\n",
    "from tensorflow.keras.models import Sequential\n",
    "from tensorflow.keras.layers import Dense, Embedding, LSTM, SpatialDropout1D\n",
    "from tensorflow.keras.preprocessing.text import Tokenizer\n",
    "from tensorflow.keras.preprocessing.sequence import pad_sequences\n",
    "\n",
    "print(\"Done\")"
   ]
  },
  {
   "cell_type": "code",
   "execution_count": 69,
   "id": "1d456604-6b4d-4847-9771-86f867315ea5",
   "metadata": {},
   "outputs": [
    {
     "name": "stderr",
     "output_type": "stream",
     "text": [
      "[nltk_data] Downloading package stopwords to\n",
      "[nltk_data]     C:\\Users\\Administrator\\AppData\\Roaming\\nltk_data...\n",
      "[nltk_data]   Package stopwords is already up-to-date!\n"
     ]
    },
    {
     "data": {
      "text/plain": [
       "True"
      ]
     },
     "execution_count": 69,
     "metadata": {},
     "output_type": "execute_result"
    }
   ],
   "source": [
    "nltk.download('stopwords')"
   ]
  },
  {
   "cell_type": "markdown",
   "id": "3470c1fe-cd55-4a13-90e7-d66351636380",
   "metadata": {},
   "source": [
    "## Load and Explore Data"
   ]
  },
  {
   "cell_type": "code",
   "execution_count": 70,
   "id": "d8cc2597-53c8-4b29-a784-f64adb531d34",
   "metadata": {},
   "outputs": [
    {
     "data": {
      "text/html": [
       "<div>\n",
       "<style scoped>\n",
       "    .dataframe tbody tr th:only-of-type {\n",
       "        vertical-align: middle;\n",
       "    }\n",
       "\n",
       "    .dataframe tbody tr th {\n",
       "        vertical-align: top;\n",
       "    }\n",
       "\n",
       "    .dataframe thead th {\n",
       "        text-align: right;\n",
       "    }\n",
       "</style>\n",
       "<table border=\"1\" class=\"dataframe\">\n",
       "  <thead>\n",
       "    <tr style=\"text-align: right;\">\n",
       "      <th></th>\n",
       "      <th>v1</th>\n",
       "      <th>v2</th>\n",
       "      <th>Unnamed: 2</th>\n",
       "      <th>Unnamed: 3</th>\n",
       "      <th>Unnamed: 4</th>\n",
       "    </tr>\n",
       "  </thead>\n",
       "  <tbody>\n",
       "    <tr>\n",
       "      <th>5567</th>\n",
       "      <td>spam</td>\n",
       "      <td>This is the 2nd time we have tried 2 contact u...</td>\n",
       "      <td>NaN</td>\n",
       "      <td>NaN</td>\n",
       "      <td>NaN</td>\n",
       "    </tr>\n",
       "    <tr>\n",
       "      <th>5568</th>\n",
       "      <td>ham</td>\n",
       "      <td>Will Ì_ b going to esplanade fr home?</td>\n",
       "      <td>NaN</td>\n",
       "      <td>NaN</td>\n",
       "      <td>NaN</td>\n",
       "    </tr>\n",
       "    <tr>\n",
       "      <th>5569</th>\n",
       "      <td>ham</td>\n",
       "      <td>Pity, * was in mood for that. So...any other s...</td>\n",
       "      <td>NaN</td>\n",
       "      <td>NaN</td>\n",
       "      <td>NaN</td>\n",
       "    </tr>\n",
       "    <tr>\n",
       "      <th>5570</th>\n",
       "      <td>ham</td>\n",
       "      <td>The guy did some bitching but I acted like i'd...</td>\n",
       "      <td>NaN</td>\n",
       "      <td>NaN</td>\n",
       "      <td>NaN</td>\n",
       "    </tr>\n",
       "    <tr>\n",
       "      <th>5571</th>\n",
       "      <td>ham</td>\n",
       "      <td>Rofl. Its true to its name</td>\n",
       "      <td>NaN</td>\n",
       "      <td>NaN</td>\n",
       "      <td>NaN</td>\n",
       "    </tr>\n",
       "  </tbody>\n",
       "</table>\n",
       "</div>"
      ],
      "text/plain": [
       "        v1                                                 v2 Unnamed: 2  \\\n",
       "5567  spam  This is the 2nd time we have tried 2 contact u...        NaN   \n",
       "5568   ham              Will Ì_ b going to esplanade fr home?        NaN   \n",
       "5569   ham  Pity, * was in mood for that. So...any other s...        NaN   \n",
       "5570   ham  The guy did some bitching but I acted like i'd...        NaN   \n",
       "5571   ham                         Rofl. Its true to its name        NaN   \n",
       "\n",
       "     Unnamed: 3 Unnamed: 4  \n",
       "5567        NaN        NaN  \n",
       "5568        NaN        NaN  \n",
       "5569        NaN        NaN  \n",
       "5570        NaN        NaN  \n",
       "5571        NaN        NaN  "
      ]
     },
     "execution_count": 70,
     "metadata": {},
     "output_type": "execute_result"
    }
   ],
   "source": [
    "# Load and Explore Data\n",
    "df = pd.read_csv('SMS_SPAM_DATASET/spam.csv',delimiter=',', encoding='latin')\n",
    "df.tail()"
   ]
  },
  {
   "cell_type": "code",
   "execution_count": 71,
   "id": "4fe9bef6-60dc-456e-b3a2-24be51d978ce",
   "metadata": {},
   "outputs": [
    {
     "data": {
      "text/html": [
       "<div>\n",
       "<style scoped>\n",
       "    .dataframe tbody tr th:only-of-type {\n",
       "        vertical-align: middle;\n",
       "    }\n",
       "\n",
       "    .dataframe tbody tr th {\n",
       "        vertical-align: top;\n",
       "    }\n",
       "\n",
       "    .dataframe thead th {\n",
       "        text-align: right;\n",
       "    }\n",
       "</style>\n",
       "<table border=\"1\" class=\"dataframe\">\n",
       "  <thead>\n",
       "    <tr style=\"text-align: right;\">\n",
       "      <th></th>\n",
       "      <th>label</th>\n",
       "      <th>text</th>\n",
       "    </tr>\n",
       "  </thead>\n",
       "  <tbody>\n",
       "    <tr>\n",
       "      <th>0</th>\n",
       "      <td>ham</td>\n",
       "      <td>Go until jurong point, crazy.. Available only ...</td>\n",
       "    </tr>\n",
       "    <tr>\n",
       "      <th>1</th>\n",
       "      <td>ham</td>\n",
       "      <td>Ok lar... Joking wif u oni...</td>\n",
       "    </tr>\n",
       "    <tr>\n",
       "      <th>2</th>\n",
       "      <td>spam</td>\n",
       "      <td>Free entry in 2 a wkly comp to win FA Cup fina...</td>\n",
       "    </tr>\n",
       "    <tr>\n",
       "      <th>3</th>\n",
       "      <td>ham</td>\n",
       "      <td>U dun say so early hor... U c already then say...</td>\n",
       "    </tr>\n",
       "    <tr>\n",
       "      <th>4</th>\n",
       "      <td>ham</td>\n",
       "      <td>Nah I don't think he goes to usf, he lives aro...</td>\n",
       "    </tr>\n",
       "  </tbody>\n",
       "</table>\n",
       "</div>"
      ],
      "text/plain": [
       "  label                                               text\n",
       "0   ham  Go until jurong point, crazy.. Available only ...\n",
       "1   ham                      Ok lar... Joking wif u oni...\n",
       "2  spam  Free entry in 2 a wkly comp to win FA Cup fina...\n",
       "3   ham  U dun say so early hor... U c already then say...\n",
       "4   ham  Nah I don't think he goes to usf, he lives aro..."
      ]
     },
     "execution_count": 71,
     "metadata": {},
     "output_type": "execute_result"
    }
   ],
   "source": [
    "# Keep the first two features\n",
    "df = df[['v1', 'v2']].rename(columns={'v1': 'label', 'v2': 'text'})\n",
    "\n",
    "# Display the first 5 elements of the dataset\n",
    "df.head()"
   ]
  },
  {
   "cell_type": "code",
   "execution_count": 73,
   "id": "9d17a45d-f398-49f8-9917-5959298a859e",
   "metadata": {},
   "outputs": [
    {
     "name": "stdout",
     "output_type": "stream",
     "text": [
      "'Go until jurong point, crazy.. Available only in bugis n great world la e buffet... Cine there got amore wat...'\n"
     ]
    }
   ],
   "source": [
    "print(repr(df.loc[0, \"text\"]))"
   ]
  },
  {
   "cell_type": "code",
   "execution_count": 74,
   "id": "843de0a3-fdb1-4290-b0f1-e5ac3933357f",
   "metadata": {},
   "outputs": [
    {
     "name": "stdout",
     "output_type": "stream",
     "text": [
      "Dataset Info:\n",
      "<class 'pandas.core.frame.DataFrame'>\n",
      "RangeIndex: 5572 entries, 0 to 5571\n",
      "Data columns (total 2 columns):\n",
      " #   Column  Non-Null Count  Dtype \n",
      "---  ------  --------------  ----- \n",
      " 0   label   5572 non-null   object\n",
      " 1   text    5572 non-null   object\n",
      "dtypes: object(2)\n",
      "memory usage: 87.2+ KB\n",
      "None\n",
      "\n",
      "Class Distribution:\n",
      "label\n",
      "ham     4825\n",
      "spam     747\n",
      "Name: count, dtype: int64\n"
     ]
    }
   ],
   "source": [
    "#  More Information about the dataset\n",
    "print(\"Dataset Info:\")\n",
    "print(df.info())\n",
    "print(\"\\nClass Distribution:\")\n",
    "print(df['label'].value_counts())\n"
   ]
  },
  {
   "cell_type": "markdown",
   "id": "832aa6ae-ecb3-43bd-a264-31d10104ef90",
   "metadata": {},
   "source": [
    "# Data Preprocessing"
   ]
  },
  {
   "cell_type": "code",
   "execution_count": 75,
   "id": "7a51172c-3988-4762-a84c-7ed1a2de1cee",
   "metadata": {},
   "outputs": [
    {
     "name": "stdout",
     "output_type": "stream",
     "text": [
      "Loaded !\n"
     ]
    }
   ],
   "source": [
    "# Data Preprocessing function\n",
    "def preprocess_text(text):\n",
    "    # Convert to lowercase\n",
    "    text = text.lower()\n",
    "    # Remove special characters and numbers\n",
    "    text = re.sub(r'[^a-zA-Z]', ' ', text)\n",
    "    # Remove extra spaces\n",
    "    text = re.sub(r'\\s+', ' ', text).strip()\n",
    "    # Tokenize and remove stopwords\n",
    "    words = text.split()\n",
    "    # stop_words = set(stopwords.words('english'))\n",
    "    # words = [word for word in words if word not in stop_words]\n",
    "    # Stemming\n",
    "    ps = PorterStemmer()\n",
    "    words = [ps.stem(word) for word in words]\n",
    "    return ' '.join(words)\n",
    "\n",
    "print(\"Loaded !\")"
   ]
  },
  {
   "cell_type": "code",
   "execution_count": 76,
   "id": "56e5ef6e-ab03-4291-aa4e-8e8c8c945ff2",
   "metadata": {},
   "outputs": [
    {
     "data": {
      "text/html": [
       "<div>\n",
       "<style scoped>\n",
       "    .dataframe tbody tr th:only-of-type {\n",
       "        vertical-align: middle;\n",
       "    }\n",
       "\n",
       "    .dataframe tbody tr th {\n",
       "        vertical-align: top;\n",
       "    }\n",
       "\n",
       "    .dataframe thead th {\n",
       "        text-align: right;\n",
       "    }\n",
       "</style>\n",
       "<table border=\"1\" class=\"dataframe\">\n",
       "  <thead>\n",
       "    <tr style=\"text-align: right;\">\n",
       "      <th></th>\n",
       "      <th>label</th>\n",
       "      <th>text</th>\n",
       "      <th>cleaned_text</th>\n",
       "    </tr>\n",
       "  </thead>\n",
       "  <tbody>\n",
       "    <tr>\n",
       "      <th>0</th>\n",
       "      <td>ham</td>\n",
       "      <td>Go until jurong point, crazy.. Available only ...</td>\n",
       "      <td>go until jurong point crazi avail onli in bugi...</td>\n",
       "    </tr>\n",
       "    <tr>\n",
       "      <th>1</th>\n",
       "      <td>ham</td>\n",
       "      <td>Ok lar... Joking wif u oni...</td>\n",
       "      <td>ok lar joke wif u oni</td>\n",
       "    </tr>\n",
       "    <tr>\n",
       "      <th>2</th>\n",
       "      <td>spam</td>\n",
       "      <td>Free entry in 2 a wkly comp to win FA Cup fina...</td>\n",
       "      <td>free entri in a wkli comp to win fa cup final ...</td>\n",
       "    </tr>\n",
       "    <tr>\n",
       "      <th>3</th>\n",
       "      <td>ham</td>\n",
       "      <td>U dun say so early hor... U c already then say...</td>\n",
       "      <td>u dun say so earli hor u c alreadi then say</td>\n",
       "    </tr>\n",
       "    <tr>\n",
       "      <th>4</th>\n",
       "      <td>ham</td>\n",
       "      <td>Nah I don't think he goes to usf, he lives aro...</td>\n",
       "      <td>nah i don t think he goe to usf he live around...</td>\n",
       "    </tr>\n",
       "  </tbody>\n",
       "</table>\n",
       "</div>"
      ],
      "text/plain": [
       "  label                                               text  \\\n",
       "0   ham  Go until jurong point, crazy.. Available only ...   \n",
       "1   ham                      Ok lar... Joking wif u oni...   \n",
       "2  spam  Free entry in 2 a wkly comp to win FA Cup fina...   \n",
       "3   ham  U dun say so early hor... U c already then say...   \n",
       "4   ham  Nah I don't think he goes to usf, he lives aro...   \n",
       "\n",
       "                                        cleaned_text  \n",
       "0  go until jurong point crazi avail onli in bugi...  \n",
       "1                              ok lar joke wif u oni  \n",
       "2  free entri in a wkli comp to win fa cup final ...  \n",
       "3        u dun say so earli hor u c alreadi then say  \n",
       "4  nah i don t think he goe to usf he live around...  "
      ]
     },
     "execution_count": 76,
     "metadata": {},
     "output_type": "execute_result"
    }
   ],
   "source": [
    "#  clean the data text \n",
    "df['cleaned_text'] = df['text'].apply(preprocess_text)\n",
    "\n",
    "df.head()"
   ]
  },
  {
   "cell_type": "markdown",
   "id": "40140ee2-7fcd-45c1-8aef-3616d4b40090",
   "metadata": {},
   "source": [
    "### Label encoding"
   ]
  },
  {
   "cell_type": "code",
   "execution_count": 77,
   "id": "8fd5615a-0b34-43f8-97c9-6af9010f72a1",
   "metadata": {},
   "outputs": [
    {
     "data": {
      "text/html": [
       "<div>\n",
       "<style scoped>\n",
       "    .dataframe tbody tr th:only-of-type {\n",
       "        vertical-align: middle;\n",
       "    }\n",
       "\n",
       "    .dataframe tbody tr th {\n",
       "        vertical-align: top;\n",
       "    }\n",
       "\n",
       "    .dataframe thead th {\n",
       "        text-align: right;\n",
       "    }\n",
       "</style>\n",
       "<table border=\"1\" class=\"dataframe\">\n",
       "  <thead>\n",
       "    <tr style=\"text-align: right;\">\n",
       "      <th></th>\n",
       "      <th>label</th>\n",
       "      <th>text</th>\n",
       "      <th>cleaned_text</th>\n",
       "    </tr>\n",
       "  </thead>\n",
       "  <tbody>\n",
       "    <tr>\n",
       "      <th>0</th>\n",
       "      <td>0</td>\n",
       "      <td>Go until jurong point, crazy.. Available only ...</td>\n",
       "      <td>go until jurong point crazi avail onli in bugi...</td>\n",
       "    </tr>\n",
       "    <tr>\n",
       "      <th>1</th>\n",
       "      <td>0</td>\n",
       "      <td>Ok lar... Joking wif u oni...</td>\n",
       "      <td>ok lar joke wif u oni</td>\n",
       "    </tr>\n",
       "    <tr>\n",
       "      <th>2</th>\n",
       "      <td>1</td>\n",
       "      <td>Free entry in 2 a wkly comp to win FA Cup fina...</td>\n",
       "      <td>free entri in a wkli comp to win fa cup final ...</td>\n",
       "    </tr>\n",
       "    <tr>\n",
       "      <th>3</th>\n",
       "      <td>0</td>\n",
       "      <td>U dun say so early hor... U c already then say...</td>\n",
       "      <td>u dun say so earli hor u c alreadi then say</td>\n",
       "    </tr>\n",
       "    <tr>\n",
       "      <th>4</th>\n",
       "      <td>0</td>\n",
       "      <td>Nah I don't think he goes to usf, he lives aro...</td>\n",
       "      <td>nah i don t think he goe to usf he live around...</td>\n",
       "    </tr>\n",
       "  </tbody>\n",
       "</table>\n",
       "</div>"
      ],
      "text/plain": [
       "   label                                               text  \\\n",
       "0      0  Go until jurong point, crazy.. Available only ...   \n",
       "1      0                      Ok lar... Joking wif u oni...   \n",
       "2      1  Free entry in 2 a wkly comp to win FA Cup fina...   \n",
       "3      0  U dun say so early hor... U c already then say...   \n",
       "4      0  Nah I don't think he goes to usf, he lives aro...   \n",
       "\n",
       "                                        cleaned_text  \n",
       "0  go until jurong point crazi avail onli in bugi...  \n",
       "1                              ok lar joke wif u oni  \n",
       "2  free entri in a wkli comp to win fa cup final ...  \n",
       "3        u dun say so earli hor u c alreadi then say  \n",
       "4  nah i don t think he goe to usf he live around...  "
      ]
     },
     "execution_count": 77,
     "metadata": {},
     "output_type": "execute_result"
    }
   ],
   "source": [
    "# Convert labels to binary\n",
    "df['label'] = df['label'].map({'ham': 0, 'spam': 1})\n",
    "df.head()"
   ]
  },
  {
   "cell_type": "markdown",
   "id": "2ac17b3a-e80b-40ff-a991-bd5f66866978",
   "metadata": {},
   "source": [
    "### Split the dataset into Training and testing sets"
   ]
  },
  {
   "cell_type": "code",
   "execution_count": 78,
   "id": "415c0f3a-dd50-4fff-a0c8-703fbe8b5d42",
   "metadata": {},
   "outputs": [
    {
     "name": "stdout",
     "output_type": "stream",
     "text": [
      "train: (4457,)\n",
      "test: (1115,)\n"
     ]
    },
    {
     "data": {
      "text/plain": [
       "(None, None)"
      ]
     },
     "execution_count": 78,
     "metadata": {},
     "output_type": "execute_result"
    }
   ],
   "source": [
    "# Split Dataset\n",
    "X = df['cleaned_text']\n",
    "y = df['label']\n",
    "X_train, X_test, y_train, y_test = train_test_split(X, y, test_size=0.2, random_state=42)\n",
    "\n",
    "print(\"train:\", X_train.shape), print(\"test:\", X_test.shape)"
   ]
  },
  {
   "cell_type": "markdown",
   "id": "cf66087a-f878-4415-9700-6295fc341725",
   "metadata": {},
   "source": [
    "# Experiment 1: Machine Learning"
   ]
  },
  {
   "cell_type": "markdown",
   "id": "06bf9956-5222-4f95-baa1-890a52263bb4",
   "metadata": {},
   "source": [
    "##  Imbalanced Data \n",
    "(keep the original samples sizes)"
   ]
  },
  {
   "cell_type": "markdown",
   "id": "cc49d814-fc72-4fc1-8141-a56cc598cf10",
   "metadata": {},
   "source": [
    "#### Normalisation and Features extraction\n",
    "As a machine can only accept number, we need to transform text data into vectors to be able to train the model"
   ]
  },
  {
   "cell_type": "code",
   "execution_count": 79,
   "id": "6e1c91e9-905c-44cc-9b6c-9fa567c8d828",
   "metadata": {},
   "outputs": [
    {
     "name": "stdout",
     "output_type": "stream",
     "text": [
      "Done!\n"
     ]
    }
   ],
   "source": [
    "# Normalisation and Feature Extraction\n",
    "tfidf = TfidfVectorizer(max_features=5000)\n",
    "X_train_tfidf = tfidf.fit_transform(X_train)\n",
    "X_test_tfidf = tfidf.transform(X_test)\n",
    "\n",
    "print(\"Done!\")"
   ]
  },
  {
   "cell_type": "markdown",
   "id": "615bf2a5-3ed2-4814-9153-38dc72f1593e",
   "metadata": {},
   "source": [
    "##### Logistic Regression"
   ]
  },
  {
   "cell_type": "code",
   "execution_count": 80,
   "id": "b6459a34-3aca-4ae2-a692-31835055f44c",
   "metadata": {},
   "outputs": [
    {
     "name": "stdout",
     "output_type": "stream",
     "text": [
      "Done!\n"
     ]
    }
   ],
   "source": [
    "# Model Loading and Training\n",
    "lr = LogisticRegression(max_iter=1000)\n",
    "lr.fit(X_train_tfidf, y_train)\n",
    "print(\"Done!\")"
   ]
  },
  {
   "cell_type": "code",
   "execution_count": 82,
   "id": "7d70ed81-ecfb-4912-b146-d8d2514ed071",
   "metadata": {},
   "outputs": [],
   "source": [
    "# Prediction\n",
    "y_pred = lr.predict(X_test_tfidf)"
   ]
  },
  {
   "cell_type": "markdown",
   "id": "b5ba1039-18a3-4941-b565-5007c5d461b3",
   "metadata": {},
   "source": [
    "### Prediction metrics"
   ]
  },
  {
   "cell_type": "code",
   "execution_count": 84,
   "id": "5ab9cb3c-4d0a-47fb-b6b4-79b97427c763",
   "metadata": {},
   "outputs": [
    {
     "name": "stdout",
     "output_type": "stream",
     "text": [
      "\n",
      "Classification Report:\n",
      "              precision    recall  f1-score   support\n",
      "\n",
      "           0       0.97      1.00      0.98       965\n",
      "           1       0.99      0.77      0.87       150\n",
      "\n",
      "    accuracy                           0.97      1115\n",
      "   macro avg       0.98      0.89      0.93      1115\n",
      "weighted avg       0.97      0.97      0.97      1115\n",
      "\n",
      "\n",
      "Confusion Matrix:\n",
      "[[964   1]\n",
      " [ 34 116]]\n"
     ]
    }
   ],
   "source": [
    "print(\"\\nClassification Report:\")\n",
    "print(classification_report(y_test, y_pred))\n",
    "print(\"\\nConfusion Matrix:\")\n",
    "print(confusion_matrix(y_test, y_pred))"
   ]
  },
  {
   "cell_type": "markdown",
   "id": "226947ae-1265-44d6-8970-74e52cbdfa85",
   "metadata": {},
   "source": [
    "##  Balanced Data"
   ]
  },
  {
   "cell_type": "markdown",
   "id": "77e85513-d4d5-45f8-8b51-0cdade142268",
   "metadata": {},
   "source": [
    "Undersample the data by reducing the number ham samples to be close to the number of spam samples"
   ]
  },
  {
   "cell_type": "code",
   "execution_count": 85,
   "id": "9831d3b4-c2c9-4568-9847-3277ff5cf5a5",
   "metadata": {},
   "outputs": [
    {
     "name": "stdout",
     "output_type": "stream",
     "text": [
      "\n",
      "New class distribution:\n",
      " label\n",
      "0    1000\n",
      "1     747\n",
      "Name: count, dtype: int64\n"
     ]
    }
   ],
   "source": [
    "#  Undersampling: Limit 'ham' to 1000 samples\n",
    "ham_df = df[df[\"label\"] == 0].sample(n=1000, random_state=42)  # Select 1000 random ham samples\n",
    "spam_df = df[df[\"label\"] == 1]  # Keep all spam samples\n",
    "\n",
    "df_balanced = pd.concat([ham_df, spam_df])  # Combine balanced ham + all spam\n",
    "print(\"\\nNew class distribution:\\n\", df_balanced[\"label\"].value_counts())"
   ]
  },
  {
   "cell_type": "code",
   "execution_count": 86,
   "id": "bda99ea6-d3a6-4960-b703-6e735595d371",
   "metadata": {},
   "outputs": [
    {
     "name": "stdout",
     "output_type": "stream",
     "text": [
      "Done!\n"
     ]
    }
   ],
   "source": [
    "# Shuffle the data\n",
    "from sklearn.utils import shuffle\n",
    "\n",
    "# # Shuffle the dataset to mix ham and spam\n",
    "df_balanced = shuffle(df_balanced, random_state=42)  # Using sklearn shuffle\n",
    "print(\"Done!\")"
   ]
  },
  {
   "cell_type": "markdown",
   "id": "f50b4552-c9c2-4c13-90c4-e8053a80ac74",
   "metadata": {},
   "source": [
    "##### Split the new balanced data into training and testing"
   ]
  },
  {
   "cell_type": "code",
   "execution_count": 87,
   "id": "c4a21840-5e70-4602-aa4b-26f6238355a1",
   "metadata": {},
   "outputs": [
    {
     "name": "stdout",
     "output_type": "stream",
     "text": [
      "Done!\n"
     ]
    }
   ],
   "source": [
    "X = df_balanced[\"text\"]  # Features (raw text)\n",
    "y = df_balanced[\"label\"]\n",
    "X_train_bal, X_test_bal, y_train_bal, y_test_bal = train_test_split(X, y, test_size=0.2, random_state=42)\n",
    "print(\"Done!\")"
   ]
  },
  {
   "cell_type": "code",
   "execution_count": 88,
   "id": "a687a32e-3e6d-4476-9618-ea0430884957",
   "metadata": {},
   "outputs": [],
   "source": [
    "# X_train_bal = X_train\n",
    "# y_train_bal = y_train"
   ]
  },
  {
   "cell_type": "markdown",
   "id": "43cb71d1-4ec0-4065-9861-db2b22941ccc",
   "metadata": {},
   "source": [
    "####  Normalisation and Features extraction"
   ]
  },
  {
   "cell_type": "code",
   "execution_count": 89,
   "id": "fe81f689-6151-4f11-a9a1-28a15dd93b5c",
   "metadata": {},
   "outputs": [
    {
     "name": "stdout",
     "output_type": "stream",
     "text": [
      "Done!\n"
     ]
    }
   ],
   "source": [
    "# Feature Extraction\n",
    "tfidf2 = TfidfVectorizer(max_features=5000)\n",
    "X_train_tfidf = tfidf2.fit_transform(X_train_bal)\n",
    "X_test_tfidf = tfidf2.transform(X_test_bal)\n",
    "\n",
    "print(\"Done!\")"
   ]
  },
  {
   "cell_type": "code",
   "execution_count": 90,
   "id": "6ae8d373-d257-45d7-b0ed-4969167cf051",
   "metadata": {},
   "outputs": [
    {
     "data": {
      "text/plain": [
       "array([0.17645544, 0.15856646, 0.15045222, ..., 0.29300874, 0.29457602,\n",
       "       0.46465022])"
      ]
     },
     "execution_count": 90,
     "metadata": {},
     "output_type": "execute_result"
    }
   ],
   "source": [
    "X_train_tfidf.data"
   ]
  },
  {
   "cell_type": "code",
   "execution_count": 91,
   "id": "9c1e6b1f-7db2-43fe-915f-bccb42ecf10b",
   "metadata": {},
   "outputs": [
    {
     "name": "stdout",
     "output_type": "stream",
     "text": [
      "Done!\n"
     ]
    }
   ],
   "source": [
    "# Model Training\n",
    "lr_bal = LogisticRegression(max_iter=1000)\n",
    "lr_bal.fit(X_train_tfidf, y_train_bal)\n",
    "print(\"Done!\")"
   ]
  },
  {
   "cell_type": "code",
   "execution_count": 92,
   "id": "623e5039-c375-4c82-a980-7c845b074d29",
   "metadata": {},
   "outputs": [
    {
     "name": "stdout",
     "output_type": "stream",
     "text": [
      "Done!\n"
     ]
    }
   ],
   "source": [
    "#  Prediction\n",
    "y_pred_bal = lr_bal.predict(X_test_tfidf)\n",
    "print(\"Done!\")"
   ]
  },
  {
   "cell_type": "markdown",
   "id": "ff0b3a57-9bac-4ee3-9bfd-51faf4da6d8e",
   "metadata": {},
   "source": [
    "##### Prediction metrics"
   ]
  },
  {
   "cell_type": "code",
   "execution_count": 93,
   "id": "80e178a1-a7b7-4244-9ec4-7d0a9588f228",
   "metadata": {},
   "outputs": [
    {
     "name": "stdout",
     "output_type": "stream",
     "text": [
      "\n",
      "Classification Report:\n",
      "              precision    recall  f1-score   support\n",
      "\n",
      "           0       0.93      0.99      0.96       206\n",
      "           1       0.98      0.89      0.93       144\n",
      "\n",
      "    accuracy                           0.95       350\n",
      "   macro avg       0.96      0.94      0.95       350\n",
      "weighted avg       0.95      0.95      0.95       350\n",
      "\n",
      "\n",
      "Confusion Matrix:\n",
      "[[204   2]\n",
      " [ 16 128]]\n"
     ]
    }
   ],
   "source": [
    "print(\"\\nClassification Report:\")\n",
    "print(classification_report(y_test_bal, y_pred_bal))\n",
    "print(\"\\nConfusion Matrix:\")\n",
    "print(confusion_matrix(y_test_bal, y_pred_bal))\n"
   ]
  },
  {
   "cell_type": "markdown",
   "id": "22d79b16-e3ac-41b9-a97c-3701b12cd43f",
   "metadata": {},
   "source": [
    "# Spam sms classification using Deep Learning "
   ]
  },
  {
   "cell_type": "markdown",
   "id": "4d847b2e-c3e9-47c7-8785-1d8b37b69eff",
   "metadata": {},
   "source": [
    "## Tokenization and data input preparation"
   ]
  },
  {
   "cell_type": "code",
   "execution_count": 94,
   "id": "06382757-4380-4a7d-bf21-e96f5e767769",
   "metadata": {},
   "outputs": [
    {
     "name": "stdout",
     "output_type": "stream",
     "text": [
      "Done!\n"
     ]
    }
   ],
   "source": [
    "# Tokenization\n",
    "max_words = 5000\n",
    "max_len = 200\n",
    "tokenizer = Tokenizer(num_words=max_words)\n",
    "tokenizer.fit_on_texts(X_train)\n",
    "\n",
    "print(\"Done!\")"
   ]
  },
  {
   "cell_type": "code",
   "execution_count": 95,
   "id": "1895d12c-6c7e-4456-aecf-8afa99203025",
   "metadata": {},
   "outputs": [
    {
     "data": {
      "text/plain": [
       "(4457,)"
      ]
     },
     "execution_count": 95,
     "metadata": {},
     "output_type": "execute_result"
    }
   ],
   "source": [
    "X_train.shape"
   ]
  },
  {
   "cell_type": "code",
   "execution_count": 96,
   "id": "ae56258c-a7a0-4fb6-8f96-2f9ccb7de69d",
   "metadata": {},
   "outputs": [
    {
     "name": "stdout",
     "output_type": "stream",
     "text": [
      "Done!\n"
     ]
    }
   ],
   "source": [
    "# Sequence the data\n",
    "X_train_seq = tokenizer.texts_to_sequences(X_train)\n",
    "X_test_seq = tokenizer.texts_to_sequences(X_test)\n",
    "print(\"Done!\")"
   ]
  },
  {
   "cell_type": "code",
   "execution_count": 97,
   "id": "73c18727-67ce-4a35-931a-429dbc2bf225",
   "metadata": {},
   "outputs": [
    {
     "name": "stdout",
     "output_type": "stream",
     "text": [
      "Done!\n"
     ]
    }
   ],
   "source": [
    "#  Prepare the input \n",
    "X_train_pad = pad_sequences(X_train_seq, maxlen=max_len)\n",
    "X_test_pad = pad_sequences(X_test_seq, maxlen=max_len)\n",
    "print(\"Done!\")"
   ]
  },
  {
   "cell_type": "markdown",
   "id": "ac34a4d7-3032-49a6-9fb6-f30eb6cbd654",
   "metadata": {},
   "source": [
    "###  Deep Learning with Imbalanced Data"
   ]
  },
  {
   "cell_type": "markdown",
   "id": "90991e70-6ecb-4c6f-9206-58f9379e19fb",
   "metadata": {},
   "source": [
    "##### Deep Learning Model building"
   ]
  },
  {
   "cell_type": "code",
   "execution_count": 98,
   "id": "0e239f3a-5fc5-4f83-b3b5-59c0bfc78d1d",
   "metadata": {},
   "outputs": [
    {
     "name": "stdout",
     "output_type": "stream",
     "text": [
      "\n",
      "=== Deep Learning model ===\n"
     ]
    },
    {
     "name": "stderr",
     "output_type": "stream",
     "text": [
      "C:\\Users\\Administrator\\Desktop\\Conference speak\\KU\\myvenv\\Lib\\site-packages\\keras\\src\\layers\\core\\embedding.py:90: UserWarning: Argument `input_length` is deprecated. Just remove it.\n",
      "  warnings.warn(\n"
     ]
    },
    {
     "data": {
      "text/html": [
       "<pre style=\"white-space:pre;overflow-x:auto;line-height:normal;font-family:Menlo,'DejaVu Sans Mono',consolas,'Courier New',monospace\"><span style=\"font-weight: bold\">Model: \"sequential_2\"</span>\n",
       "</pre>\n"
      ],
      "text/plain": [
       "\u001b[1mModel: \"sequential_2\"\u001b[0m\n"
      ]
     },
     "metadata": {},
     "output_type": "display_data"
    },
    {
     "data": {
      "text/html": [
       "<pre style=\"white-space:pre;overflow-x:auto;line-height:normal;font-family:Menlo,'DejaVu Sans Mono',consolas,'Courier New',monospace\">┏━━━━━━━━━━━━━━━━━━━━━━━━━━━━━━━━━━━━━━┳━━━━━━━━━━━━━━━━━━━━━━━━━━━━━┳━━━━━━━━━━━━━━━━━┓\n",
       "┃<span style=\"font-weight: bold\"> Layer (type)                         </span>┃<span style=\"font-weight: bold\"> Output Shape                </span>┃<span style=\"font-weight: bold\">         Param # </span>┃\n",
       "┡━━━━━━━━━━━━━━━━━━━━━━━━━━━━━━━━━━━━━━╇━━━━━━━━━━━━━━━━━━━━━━━━━━━━━╇━━━━━━━━━━━━━━━━━┩\n",
       "│ embedding_2 (<span style=\"color: #0087ff; text-decoration-color: #0087ff\">Embedding</span>)              │ ?                           │     <span style=\"color: #00af00; text-decoration-color: #00af00\">0</span> (unbuilt) │\n",
       "├──────────────────────────────────────┼─────────────────────────────┼─────────────────┤\n",
       "│ spatial_dropout1d_2                  │ ?                           │               <span style=\"color: #00af00; text-decoration-color: #00af00\">0</span> │\n",
       "│ (<span style=\"color: #0087ff; text-decoration-color: #0087ff\">SpatialDropout1D</span>)                   │                             │                 │\n",
       "├──────────────────────────────────────┼─────────────────────────────┼─────────────────┤\n",
       "│ lstm_2 (<span style=\"color: #0087ff; text-decoration-color: #0087ff\">LSTM</span>)                        │ ?                           │     <span style=\"color: #00af00; text-decoration-color: #00af00\">0</span> (unbuilt) │\n",
       "├──────────────────────────────────────┼─────────────────────────────┼─────────────────┤\n",
       "│ dense_2 (<span style=\"color: #0087ff; text-decoration-color: #0087ff\">Dense</span>)                      │ ?                           │     <span style=\"color: #00af00; text-decoration-color: #00af00\">0</span> (unbuilt) │\n",
       "└──────────────────────────────────────┴─────────────────────────────┴─────────────────┘\n",
       "</pre>\n"
      ],
      "text/plain": [
       "┏━━━━━━━━━━━━━━━━━━━━━━━━━━━━━━━━━━━━━━┳━━━━━━━━━━━━━━━━━━━━━━━━━━━━━┳━━━━━━━━━━━━━━━━━┓\n",
       "┃\u001b[1m \u001b[0m\u001b[1mLayer (type)                        \u001b[0m\u001b[1m \u001b[0m┃\u001b[1m \u001b[0m\u001b[1mOutput Shape               \u001b[0m\u001b[1m \u001b[0m┃\u001b[1m \u001b[0m\u001b[1m        Param #\u001b[0m\u001b[1m \u001b[0m┃\n",
       "┡━━━━━━━━━━━━━━━━━━━━━━━━━━━━━━━━━━━━━━╇━━━━━━━━━━━━━━━━━━━━━━━━━━━━━╇━━━━━━━━━━━━━━━━━┩\n",
       "│ embedding_2 (\u001b[38;5;33mEmbedding\u001b[0m)              │ ?                           │     \u001b[38;5;34m0\u001b[0m (unbuilt) │\n",
       "├──────────────────────────────────────┼─────────────────────────────┼─────────────────┤\n",
       "│ spatial_dropout1d_2                  │ ?                           │               \u001b[38;5;34m0\u001b[0m │\n",
       "│ (\u001b[38;5;33mSpatialDropout1D\u001b[0m)                   │                             │                 │\n",
       "├──────────────────────────────────────┼─────────────────────────────┼─────────────────┤\n",
       "│ lstm_2 (\u001b[38;5;33mLSTM\u001b[0m)                        │ ?                           │     \u001b[38;5;34m0\u001b[0m (unbuilt) │\n",
       "├──────────────────────────────────────┼─────────────────────────────┼─────────────────┤\n",
       "│ dense_2 (\u001b[38;5;33mDense\u001b[0m)                      │ ?                           │     \u001b[38;5;34m0\u001b[0m (unbuilt) │\n",
       "└──────────────────────────────────────┴─────────────────────────────┴─────────────────┘\n"
      ]
     },
     "metadata": {},
     "output_type": "display_data"
    },
    {
     "data": {
      "text/html": [
       "<pre style=\"white-space:pre;overflow-x:auto;line-height:normal;font-family:Menlo,'DejaVu Sans Mono',consolas,'Courier New',monospace\"><span style=\"font-weight: bold\"> Total params: </span><span style=\"color: #00af00; text-decoration-color: #00af00\">0</span> (0.00 B)\n",
       "</pre>\n"
      ],
      "text/plain": [
       "\u001b[1m Total params: \u001b[0m\u001b[38;5;34m0\u001b[0m (0.00 B)\n"
      ]
     },
     "metadata": {},
     "output_type": "display_data"
    },
    {
     "data": {
      "text/html": [
       "<pre style=\"white-space:pre;overflow-x:auto;line-height:normal;font-family:Menlo,'DejaVu Sans Mono',consolas,'Courier New',monospace\"><span style=\"font-weight: bold\"> Trainable params: </span><span style=\"color: #00af00; text-decoration-color: #00af00\">0</span> (0.00 B)\n",
       "</pre>\n"
      ],
      "text/plain": [
       "\u001b[1m Trainable params: \u001b[0m\u001b[38;5;34m0\u001b[0m (0.00 B)\n"
      ]
     },
     "metadata": {},
     "output_type": "display_data"
    },
    {
     "data": {
      "text/html": [
       "<pre style=\"white-space:pre;overflow-x:auto;line-height:normal;font-family:Menlo,'DejaVu Sans Mono',consolas,'Courier New',monospace\"><span style=\"font-weight: bold\"> Non-trainable params: </span><span style=\"color: #00af00; text-decoration-color: #00af00\">0</span> (0.00 B)\n",
       "</pre>\n"
      ],
      "text/plain": [
       "\u001b[1m Non-trainable params: \u001b[0m\u001b[38;5;34m0\u001b[0m (0.00 B)\n"
      ]
     },
     "metadata": {},
     "output_type": "display_data"
    },
    {
     "name": "stdout",
     "output_type": "stream",
     "text": [
      "Done!\n"
     ]
    }
   ],
   "source": [
    "print(\"\\n=== Deep Learning model ===\")\n",
    "dl_model = Sequential()\n",
    "dl_model.add(Embedding(max_words, 128, input_length=max_len, trainable=True))\n",
    "dl_model.add(SpatialDropout1D(0.4))\n",
    "dl_model.add(LSTM(64, dropout=0.2, recurrent_dropout=0.2))\n",
    "dl_model.add(Dense(1, activation='sigmoid'))\n",
    "\n",
    "dl_model.summary()\n",
    "print(\"Done!\")"
   ]
  },
  {
   "cell_type": "code",
   "execution_count": 99,
   "id": "c609a9a3-cd2a-45c4-9951-834a358bb92e",
   "metadata": {},
   "outputs": [
    {
     "name": "stdout",
     "output_type": "stream",
     "text": [
      "Done!\n"
     ]
    }
   ],
   "source": [
    "#  Compile the model\n",
    "dl_model.compile(loss='binary_crossentropy',\n",
    "                optimizer='adam',\n",
    "                metrics=['accuracy'])\n",
    "\n",
    "\n",
    "print(\"Done!\")"
   ]
  },
  {
   "cell_type": "code",
   "execution_count": 100,
   "id": "bcc66b69-200f-4ce3-ae87-d8a57d32eae0",
   "metadata": {},
   "outputs": [
    {
     "name": "stdout",
     "output_type": "stream",
     "text": [
      "Epoch 1/5\n",
      "\u001b[1m112/112\u001b[0m \u001b[32m━━━━━━━━━━━━━━━━━━━━\u001b[0m\u001b[37m\u001b[0m \u001b[1m17s\u001b[0m 108ms/step - accuracy: 0.8852 - loss: 0.3526 - val_accuracy: 0.9753 - val_loss: 0.0808\n",
      "Epoch 2/5\n",
      "\u001b[1m112/112\u001b[0m \u001b[32m━━━━━━━━━━━━━━━━━━━━\u001b[0m\u001b[37m\u001b[0m \u001b[1m11s\u001b[0m 97ms/step - accuracy: 0.9874 - loss: 0.0528 - val_accuracy: 0.9843 - val_loss: 0.0536\n",
      "Epoch 3/5\n",
      "\u001b[1m112/112\u001b[0m \u001b[32m━━━━━━━━━━━━━━━━━━━━\u001b[0m\u001b[37m\u001b[0m \u001b[1m11s\u001b[0m 101ms/step - accuracy: 0.9896 - loss: 0.0348 - val_accuracy: 0.9854 - val_loss: 0.0576\n",
      "Epoch 4/5\n",
      "\u001b[1m112/112\u001b[0m \u001b[32m━━━━━━━━━━━━━━━━━━━━\u001b[0m\u001b[37m\u001b[0m \u001b[1m11s\u001b[0m 102ms/step - accuracy: 0.9966 - loss: 0.0151 - val_accuracy: 0.9865 - val_loss: 0.0615\n",
      "Epoch 5/5\n",
      "\u001b[1m112/112\u001b[0m \u001b[32m━━━━━━━━━━━━━━━━━━━━\u001b[0m\u001b[37m\u001b[0m \u001b[1m11s\u001b[0m 101ms/step - accuracy: 0.9976 - loss: 0.0097 - val_accuracy: 0.9865 - val_loss: 0.0600\n"
     ]
    }
   ],
   "source": [
    "#  Model training\n",
    "history = dl_model.fit(X_train_pad, y_train,\n",
    "                      epochs=5,\n",
    "                      batch_size=32,\n",
    "                      validation_split=0.2)"
   ]
  },
  {
   "cell_type": "markdown",
   "id": "f757a709-6bb6-4725-ac02-cb79d9b50b44",
   "metadata": {},
   "source": [
    "##### Evaluation"
   ]
  },
  {
   "cell_type": "code",
   "execution_count": 101,
   "id": "ee80afae-9c46-4227-9675-cab90205491e",
   "metadata": {},
   "outputs": [
    {
     "data": {
      "text/html": [
       "<pre style=\"white-space:pre;overflow-x:auto;line-height:normal;font-family:Menlo,'DejaVu Sans Mono',consolas,'Courier New',monospace\"><span style=\"font-weight: bold\">Model: \"sequential_2\"</span>\n",
       "</pre>\n"
      ],
      "text/plain": [
       "\u001b[1mModel: \"sequential_2\"\u001b[0m\n"
      ]
     },
     "metadata": {},
     "output_type": "display_data"
    },
    {
     "data": {
      "text/html": [
       "<pre style=\"white-space:pre;overflow-x:auto;line-height:normal;font-family:Menlo,'DejaVu Sans Mono',consolas,'Courier New',monospace\">┏━━━━━━━━━━━━━━━━━━━━━━━━━━━━━━━━━━━━━━┳━━━━━━━━━━━━━━━━━━━━━━━━━━━━━┳━━━━━━━━━━━━━━━━━┓\n",
       "┃<span style=\"font-weight: bold\"> Layer (type)                         </span>┃<span style=\"font-weight: bold\"> Output Shape                </span>┃<span style=\"font-weight: bold\">         Param # </span>┃\n",
       "┡━━━━━━━━━━━━━━━━━━━━━━━━━━━━━━━━━━━━━━╇━━━━━━━━━━━━━━━━━━━━━━━━━━━━━╇━━━━━━━━━━━━━━━━━┩\n",
       "│ embedding_2 (<span style=\"color: #0087ff; text-decoration-color: #0087ff\">Embedding</span>)              │ (<span style=\"color: #00d7ff; text-decoration-color: #00d7ff\">None</span>, <span style=\"color: #00af00; text-decoration-color: #00af00\">200</span>, <span style=\"color: #00af00; text-decoration-color: #00af00\">128</span>)            │         <span style=\"color: #00af00; text-decoration-color: #00af00\">640,000</span> │\n",
       "├──────────────────────────────────────┼─────────────────────────────┼─────────────────┤\n",
       "│ spatial_dropout1d_2                  │ (<span style=\"color: #00d7ff; text-decoration-color: #00d7ff\">None</span>, <span style=\"color: #00af00; text-decoration-color: #00af00\">200</span>, <span style=\"color: #00af00; text-decoration-color: #00af00\">128</span>)            │               <span style=\"color: #00af00; text-decoration-color: #00af00\">0</span> │\n",
       "│ (<span style=\"color: #0087ff; text-decoration-color: #0087ff\">SpatialDropout1D</span>)                   │                             │                 │\n",
       "├──────────────────────────────────────┼─────────────────────────────┼─────────────────┤\n",
       "│ lstm_2 (<span style=\"color: #0087ff; text-decoration-color: #0087ff\">LSTM</span>)                        │ (<span style=\"color: #00d7ff; text-decoration-color: #00d7ff\">None</span>, <span style=\"color: #00af00; text-decoration-color: #00af00\">64</span>)                  │          <span style=\"color: #00af00; text-decoration-color: #00af00\">49,408</span> │\n",
       "├──────────────────────────────────────┼─────────────────────────────┼─────────────────┤\n",
       "│ dense_2 (<span style=\"color: #0087ff; text-decoration-color: #0087ff\">Dense</span>)                      │ (<span style=\"color: #00d7ff; text-decoration-color: #00d7ff\">None</span>, <span style=\"color: #00af00; text-decoration-color: #00af00\">1</span>)                   │              <span style=\"color: #00af00; text-decoration-color: #00af00\">65</span> │\n",
       "└──────────────────────────────────────┴─────────────────────────────┴─────────────────┘\n",
       "</pre>\n"
      ],
      "text/plain": [
       "┏━━━━━━━━━━━━━━━━━━━━━━━━━━━━━━━━━━━━━━┳━━━━━━━━━━━━━━━━━━━━━━━━━━━━━┳━━━━━━━━━━━━━━━━━┓\n",
       "┃\u001b[1m \u001b[0m\u001b[1mLayer (type)                        \u001b[0m\u001b[1m \u001b[0m┃\u001b[1m \u001b[0m\u001b[1mOutput Shape               \u001b[0m\u001b[1m \u001b[0m┃\u001b[1m \u001b[0m\u001b[1m        Param #\u001b[0m\u001b[1m \u001b[0m┃\n",
       "┡━━━━━━━━━━━━━━━━━━━━━━━━━━━━━━━━━━━━━━╇━━━━━━━━━━━━━━━━━━━━━━━━━━━━━╇━━━━━━━━━━━━━━━━━┩\n",
       "│ embedding_2 (\u001b[38;5;33mEmbedding\u001b[0m)              │ (\u001b[38;5;45mNone\u001b[0m, \u001b[38;5;34m200\u001b[0m, \u001b[38;5;34m128\u001b[0m)            │         \u001b[38;5;34m640,000\u001b[0m │\n",
       "├──────────────────────────────────────┼─────────────────────────────┼─────────────────┤\n",
       "│ spatial_dropout1d_2                  │ (\u001b[38;5;45mNone\u001b[0m, \u001b[38;5;34m200\u001b[0m, \u001b[38;5;34m128\u001b[0m)            │               \u001b[38;5;34m0\u001b[0m │\n",
       "│ (\u001b[38;5;33mSpatialDropout1D\u001b[0m)                   │                             │                 │\n",
       "├──────────────────────────────────────┼─────────────────────────────┼─────────────────┤\n",
       "│ lstm_2 (\u001b[38;5;33mLSTM\u001b[0m)                        │ (\u001b[38;5;45mNone\u001b[0m, \u001b[38;5;34m64\u001b[0m)                  │          \u001b[38;5;34m49,408\u001b[0m │\n",
       "├──────────────────────────────────────┼─────────────────────────────┼─────────────────┤\n",
       "│ dense_2 (\u001b[38;5;33mDense\u001b[0m)                      │ (\u001b[38;5;45mNone\u001b[0m, \u001b[38;5;34m1\u001b[0m)                   │              \u001b[38;5;34m65\u001b[0m │\n",
       "└──────────────────────────────────────┴─────────────────────────────┴─────────────────┘\n"
      ]
     },
     "metadata": {},
     "output_type": "display_data"
    },
    {
     "data": {
      "text/html": [
       "<pre style=\"white-space:pre;overflow-x:auto;line-height:normal;font-family:Menlo,'DejaVu Sans Mono',consolas,'Courier New',monospace\"><span style=\"font-weight: bold\"> Total params: </span><span style=\"color: #00af00; text-decoration-color: #00af00\">2,068,421</span> (7.89 MB)\n",
       "</pre>\n"
      ],
      "text/plain": [
       "\u001b[1m Total params: \u001b[0m\u001b[38;5;34m2,068,421\u001b[0m (7.89 MB)\n"
      ]
     },
     "metadata": {},
     "output_type": "display_data"
    },
    {
     "data": {
      "text/html": [
       "<pre style=\"white-space:pre;overflow-x:auto;line-height:normal;font-family:Menlo,'DejaVu Sans Mono',consolas,'Courier New',monospace\"><span style=\"font-weight: bold\"> Trainable params: </span><span style=\"color: #00af00; text-decoration-color: #00af00\">689,473</span> (2.63 MB)\n",
       "</pre>\n"
      ],
      "text/plain": [
       "\u001b[1m Trainable params: \u001b[0m\u001b[38;5;34m689,473\u001b[0m (2.63 MB)\n"
      ]
     },
     "metadata": {},
     "output_type": "display_data"
    },
    {
     "data": {
      "text/html": [
       "<pre style=\"white-space:pre;overflow-x:auto;line-height:normal;font-family:Menlo,'DejaVu Sans Mono',consolas,'Courier New',monospace\"><span style=\"font-weight: bold\"> Non-trainable params: </span><span style=\"color: #00af00; text-decoration-color: #00af00\">0</span> (0.00 B)\n",
       "</pre>\n"
      ],
      "text/plain": [
       "\u001b[1m Non-trainable params: \u001b[0m\u001b[38;5;34m0\u001b[0m (0.00 B)\n"
      ]
     },
     "metadata": {},
     "output_type": "display_data"
    },
    {
     "data": {
      "text/html": [
       "<pre style=\"white-space:pre;overflow-x:auto;line-height:normal;font-family:Menlo,'DejaVu Sans Mono',consolas,'Courier New',monospace\"><span style=\"font-weight: bold\"> Optimizer params: </span><span style=\"color: #00af00; text-decoration-color: #00af00\">1,378,948</span> (5.26 MB)\n",
       "</pre>\n"
      ],
      "text/plain": [
       "\u001b[1m Optimizer params: \u001b[0m\u001b[38;5;34m1,378,948\u001b[0m (5.26 MB)\n"
      ]
     },
     "metadata": {},
     "output_type": "display_data"
    }
   ],
   "source": [
    "dl_model.summary()"
   ]
  },
  {
   "cell_type": "code",
   "execution_count": 102,
   "id": "3230d767-fc69-4a20-b3ef-771e134335fa",
   "metadata": {},
   "outputs": [
    {
     "name": "stdout",
     "output_type": "stream",
     "text": [
      "\u001b[1m35/35\u001b[0m \u001b[32m━━━━━━━━━━━━━━━━━━━━\u001b[0m\u001b[37m\u001b[0m \u001b[1m2s\u001b[0m 39ms/step  \n",
      "Done!\n"
     ]
    }
   ],
   "source": [
    "#  Prediction\n",
    "y_pred_dl = (dl_model.predict(X_test_pad) > 0.5).astype(int)\n",
    "print(\"Done!\")"
   ]
  },
  {
   "cell_type": "code",
   "execution_count": 103,
   "id": "344e49f0-2826-4895-9204-d1954e74a7a3",
   "metadata": {},
   "outputs": [
    {
     "name": "stdout",
     "output_type": "stream",
     "text": [
      "\n",
      "Classification Report:\n",
      "              precision    recall  f1-score   support\n",
      "\n",
      "           0       0.99      0.99      0.99       965\n",
      "           1       0.97      0.92      0.94       150\n",
      "\n",
      "    accuracy                           0.98      1115\n",
      "   macro avg       0.98      0.96      0.97      1115\n",
      "weighted avg       0.98      0.98      0.98      1115\n",
      "\n",
      "\n",
      "Confusion Matrix:\n",
      "[[960   5]\n",
      " [ 12 138]]\n"
     ]
    }
   ],
   "source": [
    "#  METRICS\n",
    "\n",
    "print(\"\\nClassification Report:\")\n",
    "print(classification_report(y_test, y_pred_dl))\n",
    "print(\"\\nConfusion Matrix:\")\n",
    "print(confusion_matrix(y_test, y_pred_dl))"
   ]
  },
  {
   "cell_type": "markdown",
   "id": "c0b31c76-0d42-4158-8cf9-dbef47deb519",
   "metadata": {},
   "source": [
    "## Deep Learning with Balanced Data"
   ]
  },
  {
   "cell_type": "markdown",
   "id": "ae6ad142-e1ad-4179-a6b2-a12a5f821d2c",
   "metadata": {},
   "source": [
    "Now we will test when the data is balanced \n"
   ]
  },
  {
   "cell_type": "code",
   "execution_count": 104,
   "id": "fd25c096-1d0e-47dd-a801-e545d2a6f91c",
   "metadata": {},
   "outputs": [
    {
     "name": "stdout",
     "output_type": "stream",
     "text": [
      "\n",
      "=== Deep Learning model ===\n",
      "Done!\n"
     ]
    },
    {
     "name": "stderr",
     "output_type": "stream",
     "text": [
      "C:\\Users\\Administrator\\Desktop\\Conference speak\\KU\\myvenv\\Lib\\site-packages\\keras\\src\\layers\\core\\embedding.py:90: UserWarning: Argument `input_length` is deprecated. Just remove it.\n",
      "  warnings.warn(\n"
     ]
    }
   ],
   "source": [
    "print(\"\\n=== Deep Learning model ===\")\n",
    "dl_model = Sequential()\n",
    "dl_model.add(Embedding(max_words, 128, input_length=max_len, trainable=True))\n",
    "dl_model.add(SpatialDropout1D(0.4))\n",
    "dl_model.add(LSTM(64, dropout=0.2, recurrent_dropout=0.2))\n",
    "dl_model.add(Dense(1, activation='sigmoid'))\n",
    "\n",
    "print(\"Done!\")"
   ]
  },
  {
   "cell_type": "code",
   "execution_count": 105,
   "id": "23b0ed2b-a2ed-4bad-bc00-cecc3ea1f5d5",
   "metadata": {},
   "outputs": [
    {
     "name": "stdout",
     "output_type": "stream",
     "text": [
      "training set:  (1397,)\n",
      "testing set:  (350,)\n"
     ]
    },
    {
     "data": {
      "text/plain": [
       "(None, None)"
      ]
     },
     "execution_count": 105,
     "metadata": {},
     "output_type": "execute_result"
    }
   ],
   "source": [
    "print(\"training set: \", X_train_bal.shape), print(\"testing set: \", X_test_bal.shape)"
   ]
  },
  {
   "cell_type": "code",
   "execution_count": 106,
   "id": "67f099e0-fae8-4a5f-a052-c4c06a013340",
   "metadata": {},
   "outputs": [
    {
     "name": "stdout",
     "output_type": "stream",
     "text": [
      "Done!\n"
     ]
    }
   ],
   "source": [
    "# Tokenization\n",
    "max_words = 5000\n",
    "max_len = 200\n",
    "tokenizer = Tokenizer(num_words=max_words)\n",
    "tokenizer.fit_on_texts(X_train_bal)\n",
    "\n",
    "print(\"Done!\")"
   ]
  },
  {
   "cell_type": "code",
   "execution_count": 107,
   "id": "ccec3057-b728-47cf-a917-d07d035bf0a3",
   "metadata": {},
   "outputs": [
    {
     "name": "stdout",
     "output_type": "stream",
     "text": [
      "Done!\n"
     ]
    }
   ],
   "source": [
    "# Sequence the data\n",
    "X_train_seq = tokenizer.texts_to_sequences(X_train_bal)\n",
    "X_test_seq = tokenizer.texts_to_sequences(X_test_bal)\n",
    "print(\"Done!\")"
   ]
  },
  {
   "cell_type": "code",
   "execution_count": 108,
   "id": "72266d97-5d23-4845-99c6-91e3a4ffbb24",
   "metadata": {},
   "outputs": [
    {
     "name": "stdout",
     "output_type": "stream",
     "text": [
      "Done!\n"
     ]
    }
   ],
   "source": [
    "#  Prepare the input \n",
    "X_train_pad = pad_sequences(X_train_seq, maxlen=max_len)\n",
    "X_test_pad = pad_sequences(X_test_seq, maxlen=max_len)\n",
    "print(\"Done!\")"
   ]
  },
  {
   "cell_type": "code",
   "execution_count": 109,
   "id": "5e7eeaaf-3093-486c-8fc5-c1d8a57c5bbf",
   "metadata": {},
   "outputs": [
    {
     "name": "stdout",
     "output_type": "stream",
     "text": [
      "Done!\n"
     ]
    }
   ],
   "source": [
    "#  Compile the model\n",
    "dl_model.compile(loss='binary_crossentropy',\n",
    "                optimizer='adam',\n",
    "                metrics=['accuracy'])\n",
    "\n",
    "\n",
    "print(\"Done!\")"
   ]
  },
  {
   "cell_type": "code",
   "execution_count": 110,
   "id": "486b4a0a-d287-4cfc-8f38-86616eefc979",
   "metadata": {},
   "outputs": [
    {
     "name": "stdout",
     "output_type": "stream",
     "text": [
      "Epoch 1/5\n",
      "\u001b[1m35/35\u001b[0m \u001b[32m━━━━━━━━━━━━━━━━━━━━\u001b[0m\u001b[37m\u001b[0m \u001b[1m9s\u001b[0m 130ms/step - accuracy: 0.6543 - loss: 0.5966 - val_accuracy: 0.8714 - val_loss: 0.4215\n",
      "Epoch 2/5\n",
      "\u001b[1m35/35\u001b[0m \u001b[32m━━━━━━━━━━━━━━━━━━━━\u001b[0m\u001b[37m\u001b[0m \u001b[1m4s\u001b[0m 103ms/step - accuracy: 0.8978 - loss: 0.2887 - val_accuracy: 0.9464 - val_loss: 0.1595\n",
      "Epoch 3/5\n",
      "\u001b[1m35/35\u001b[0m \u001b[32m━━━━━━━━━━━━━━━━━━━━\u001b[0m\u001b[37m\u001b[0m \u001b[1m4s\u001b[0m 103ms/step - accuracy: 0.9714 - loss: 0.1011 - val_accuracy: 0.9643 - val_loss: 0.1134\n",
      "Epoch 4/5\n",
      "\u001b[1m35/35\u001b[0m \u001b[32m━━━━━━━━━━━━━━━━━━━━\u001b[0m\u001b[37m\u001b[0m \u001b[1m4s\u001b[0m 102ms/step - accuracy: 0.9891 - loss: 0.0453 - val_accuracy: 0.9679 - val_loss: 0.1257\n",
      "Epoch 5/5\n",
      "\u001b[1m35/35\u001b[0m \u001b[32m━━━━━━━━━━━━━━━━━━━━\u001b[0m\u001b[37m\u001b[0m \u001b[1m4s\u001b[0m 108ms/step - accuracy: 0.9915 - loss: 0.0389 - val_accuracy: 0.9679 - val_loss: 0.1055\n"
     ]
    }
   ],
   "source": [
    "#  Model training\n",
    "history_bal = dl_model.fit(X_train_pad, y_train_bal,\n",
    "                      epochs=5,\n",
    "                      batch_size=32,\n",
    "                      validation_split=0.2)"
   ]
  },
  {
   "cell_type": "markdown",
   "id": "a2d1b829-ddac-4bf2-8bbc-974e9d96e00e",
   "metadata": {},
   "source": [
    "##### Evaluation"
   ]
  },
  {
   "cell_type": "code",
   "execution_count": 111,
   "id": "48263f11-b478-469d-a114-3b1613f522d2",
   "metadata": {},
   "outputs": [
    {
     "name": "stdout",
     "output_type": "stream",
     "text": [
      "\u001b[1m11/11\u001b[0m \u001b[32m━━━━━━━━━━━━━━━━━━━━\u001b[0m\u001b[37m\u001b[0m \u001b[1m1s\u001b[0m 67ms/step \n"
     ]
    }
   ],
   "source": [
    "#  Prediction\n",
    "y_pred_dl_bal = (dl_model.predict(X_test_pad) > 0.5).astype(int)"
   ]
  },
  {
   "cell_type": "code",
   "execution_count": 112,
   "id": "ae0a11dc-d5bf-451f-b9a7-3fa2a93c955d",
   "metadata": {},
   "outputs": [
    {
     "name": "stdout",
     "output_type": "stream",
     "text": [
      "\n",
      "Classification Report:\n",
      "              precision    recall  f1-score   support\n",
      "\n",
      "           0       0.92      1.00      0.96       206\n",
      "           1       1.00      0.88      0.93       144\n",
      "\n",
      "    accuracy                           0.95       350\n",
      "   macro avg       0.96      0.94      0.95       350\n",
      "weighted avg       0.95      0.95      0.95       350\n",
      "\n",
      "\n",
      "Confusion Matrix:\n",
      "[[206   0]\n",
      " [ 18 126]]\n"
     ]
    }
   ],
   "source": [
    "#  METRICS\n",
    "print(\"\\nClassification Report:\")\n",
    "print(classification_report(y_test_bal, y_pred_dl_bal))\n",
    "print(\"\\nConfusion Matrix:\")\n",
    "print(confusion_matrix(y_test_bal, y_pred_dl_bal))"
   ]
  },
  {
   "cell_type": "markdown",
   "id": "37a26ac4-ef0e-4eaa-9d90-a7888135d9d9",
   "metadata": {},
   "source": [
    "##  Comparison Between ML and DL "
   ]
  },
  {
   "cell_type": "code",
   "execution_count": 113,
   "id": "dcdb81bd-d0a1-41b9-a6ae-fe24731dc55a",
   "metadata": {},
   "outputs": [
    {
     "data": {
      "image/png": "[encoded data removed]",
      "text/plain": [
       "<Figure size 800x700 with 4 Axes>"
      ]
     },
     "metadata": {},
     "output_type": "display_data"
    }
   ],
   "source": [
    "# Visualization with Subplots\n",
    "def plot_confusion_matrix(cm, title, ax):\n",
    "    sns.heatmap(cm, annot=True, fmt='d', cmap='Blues', ax=ax, \n",
    "                annot_kws={'fontsize': 10}, cbar=False)\n",
    "    ax.set_title(title, fontsize=12)\n",
    "    ax.set_xlabel('Predicted', fontsize=10)\n",
    "    ax.set_ylabel('Actual', fontsize=10)\n",
    "    ax.tick_params(axis='both', which='major', labelsize=10)\n",
    "\n",
    "# Create figure and axes\n",
    "plt.figure(figsize=(8, 7))\n",
    "plt.suptitle(\"Confusion Matrix Comparison\", y=0.95, fontsize=14)\n",
    "\n",
    "# Create subplots in 2x2 grid\n",
    "axes = []\n",
    "for i in range(4):\n",
    "    axes.append(plt.subplot(2, 2, i+1))\n",
    "\n",
    "# Plot matrices\n",
    "plot_confusion_matrix(confusion_matrix(y_test, y_pred), \"ML Imbalanced\", axes[0])\n",
    "plot_confusion_matrix(confusion_matrix(y_test_bal, y_pred_bal), \"ML Balanced\", axes[1])\n",
    "plot_confusion_matrix(confusion_matrix(y_test, y_pred_dl), \"DL Imbalanced\", axes[2])\n",
    "plot_confusion_matrix(confusion_matrix(y_test_bal, y_pred_dl_bal), \"DL Balanced\", axes[3])\n",
    "\n",
    "plt.tight_layout(pad=3.0)\n",
    "plt.show()"
   ]
  },
  {
   "cell_type": "markdown",
   "id": "316267bf-31a0-4ac1-82b0-fd017e085fd2",
   "metadata": {},
   "source": [
    "# Saving Models & Assets"
   ]
  },
  {
   "cell_type": "markdown",
   "id": "2052a837-c7b5-4476-9879-7640b46422b1",
   "metadata": {},
   "source": [
    "## Save Machine Learning models and vectorizer"
   ]
  },
  {
   "cell_type": "code",
   "execution_count": 13,
   "id": "f4469b03-fbad-4c36-abfa-d7f705cecedf",
   "metadata": {},
   "outputs": [
    {
     "name": "stdout",
     "output_type": "stream",
     "text": [
      "Imported!\n"
     ]
    }
   ],
   "source": [
    "#  Import dependencies\n",
    "import joblib\n",
    "from tensorflow.keras.models import save_model\n",
    "import pickle\n",
    "print(\"Imported!\")"
   ]
  },
  {
   "cell_type": "code",
   "execution_count": 117,
   "id": "d56c90c7-6a07-44d9-a1a9-ad798a06a436",
   "metadata": {},
   "outputs": [
    {
     "name": "stdout",
     "output_type": "stream",
     "text": [
      "Done!\n"
     ]
    }
   ],
   "source": [
    "# Save ML models and vectorizer\n",
    "joblib.dump(lr, 'logreg_imbalanced.pkl')\n",
    "joblib.dump(lr_bal, 'logreg_balanced.pkl')\n",
    "\n",
    "# Save the vector params for imbalanced data\n",
    "with open(\"tfidf_vectorizer.pkl\", \"wb\") as file:\n",
    "    pickle.dump(tfidf, file)\n",
    "\n",
    "\n",
    "#  Save the vector data for balanced data\n",
    "with open(\"tfidf2_vectorizer.pkl\", \"wb\") as file:\n",
    "    pickle.dump(tfidf2, file)\n",
    "\n",
    "\n",
    "print(\"Done!\")"
   ]
  },
  {
   "cell_type": "markdown",
   "id": "4dd5cb87-a80a-46b5-84a7-9689a17b1cee",
   "metadata": {},
   "source": [
    "## Save Deep Learning models and tokenizer"
   ]
  },
  {
   "cell_type": "code",
   "execution_count": 118,
   "id": "0148bc48-297b-4810-9acc-ba9ae0c52c33",
   "metadata": {},
   "outputs": [
    {
     "name": "stderr",
     "output_type": "stream",
     "text": [
      "WARNING:absl:You are saving your model as an HDF5 file via `model.save()` or `keras.saving.save_model(model)`. This file format is considered legacy. We recommend using instead the native Keras format, e.g. `model.save('my_model.keras')` or `keras.saving.save_model(model, 'my_model.keras')`. \n"
     ]
    },
    {
     "name": "stdout",
     "output_type": "stream",
     "text": [
      "Done!\n"
     ]
    }
   ],
   "source": [
    "dl_model.save('dl_model.h5')  # Saves both architecture and weights\n",
    "with open('tokenizer.pkl', 'wb') as handle:\n",
    "    joblib.dump(tokenizer, handle)\n",
    "\n",
    "# Save config values\n",
    "np.save('dl_config.npy', [max_words, max_len])\n",
    "print(\"Done!\")"
   ]
  },
  {
   "cell_type": "markdown",
   "id": "701d4c72-f78f-44f5-bcc9-1c561ed78e22",
   "metadata": {},
   "source": [
    "\n",
    "# Loading Models & Assets\n"
   ]
  },
  {
   "cell_type": "code",
   "execution_count": 119,
   "id": "4397ca97-886e-4a66-aafe-6aee0b7e29db",
   "metadata": {},
   "outputs": [],
   "source": [
    "# Import dependencies\n",
    "from tensorflow.keras.models import load_model"
   ]
  },
  {
   "cell_type": "markdown",
   "id": "78ce6745-0945-4254-8cf6-9d6bddb3f19a",
   "metadata": {},
   "source": [
    "## Load Models"
   ]
  },
  {
   "cell_type": "code",
   "execution_count": 120,
   "id": "26e3c710-7dbd-4119-b645-367b60cd7114",
   "metadata": {},
   "outputs": [
    {
     "name": "stdout",
     "output_type": "stream",
     "text": [
      "ML models Loaded!\n"
     ]
    }
   ],
   "source": [
    "import pickle\n",
    "\n",
    "# Load ML components\n",
    "lr_loaded = joblib.load('logreg_imbalanced.pkl')\n",
    "lr_bal_loaded = joblib.load('logreg_balanced.pkl')\n",
    "# Load the trained TF-IDF vectorizer for imbalanced data\n",
    "with open(\"tfidf_vectorizer.pkl\", \"rb\") as file:\n",
    "    tfidf_loaded = pickle.load(file)\n",
    "\n",
    "# Load the trained TF-IDF vectorizer for balanced data\n",
    "with open(\"tfidf2_vectorizer.pkl\", \"rb\") as file:\n",
    "    tfidf2_loaded = pickle.load(file)\n",
    "    \n",
    "print(\"ML models Loaded!\")"
   ]
  },
  {
   "cell_type": "code",
   "execution_count": 121,
   "id": "db2b35ed-5b69-4e96-b8d5-ee6664dec638",
   "metadata": {},
   "outputs": [
    {
     "name": "stderr",
     "output_type": "stream",
     "text": [
      "WARNING:absl:Compiled the loaded model, but the compiled metrics have yet to be built. `model.compile_metrics` will be empty until you train or evaluate the model.\n"
     ]
    },
    {
     "name": "stdout",
     "output_type": "stream",
     "text": [
      "DL models Loaded!\n"
     ]
    }
   ],
   "source": [
    "# Load DL components\n",
    "dl_model_loaded = load_model('dl_model.h5')\n",
    "tokenizer_loaded = joblib.load('tokenizer.pkl')\n",
    "max_words_loaded, max_len_loaded = np.load('dl_config.npy', allow_pickle=True)\n",
    "\n",
    "print(\"DL models Loaded!\")"
   ]
  },
  {
   "cell_type": "markdown",
   "id": "e31283f5-9da8-42bc-9597-193b9e1843bb",
   "metadata": {},
   "source": [
    "\n",
    "## New Predictions using the saved models\n"
   ]
  },
  {
   "cell_type": "markdown",
   "id": "002622eb-7386-4180-8a48-e956a6e47db6",
   "metadata": {},
   "source": [
    " Prediction Function"
   ]
  },
  {
   "cell_type": "code",
   "execution_count": 122,
   "id": "cf47c986-dacf-49a3-8ff1-5d6b069bbd96",
   "metadata": {},
   "outputs": [
    {
     "name": "stdout",
     "output_type": "stream",
     "text": [
      "Done!\n"
     ]
    }
   ],
   "source": [
    "def predict_spam(sms):\n",
    "    # Preprocess input\n",
    "    cleaned_text = preprocess_text(sms)  # Clean the text\n",
    "\n",
    "    # Use pre-trained TF-IDF vectorizer for imbalanced data\n",
    "    ml_vector = tfidf_loaded.transform([cleaned_text])  # Transform input, don't fit again! tfidf2_loaded \n",
    "\n",
    "    # Use pre-trained TF-IDF vectorizer for balanced data\n",
    "    ml_vector2 = tfidf2_loaded.transform([cleaned_text])  # Transform input, don't fit again! \n",
    "\n",
    "    #  ML prediction\n",
    "    ml_pred = lr_loaded.predict(ml_vector)[0]  # Imbalanced model\n",
    "    ml_bal_pred = lr_bal_loaded.predict(ml_vector2)[0]  # Balanced model\n",
    "\n",
    "    #  DL prediction: Use tokenizer on raw SMS, not processed text\n",
    "    dl_sequence = tokenizer_loaded.texts_to_sequences([sms])  \n",
    "    dl_padded = pad_sequences(dl_sequence, maxlen=max_len_loaded)  \n",
    "    dl_pred = (dl_model_loaded.predict(dl_padded) > 0.5).astype(int)[0][0]\n",
    "\n",
    "    return {\n",
    "        'ML Imbalanced': 'SPAM' if ml_pred == 1 else 'HAM',\n",
    "        'ML Balanced': 'SPAM' if ml_bal_pred == 1 else 'HAM',\n",
    "        'DL Model': 'SPAM' if dl_pred == 1 else 'HAM'\n",
    "    }\n",
    "\n",
    "print(\"Done!\")\n"
   ]
  },
  {
   "cell_type": "markdown",
   "id": "5478270c-1269-41b8-9938-20e60c0432c1",
   "metadata": {},
   "source": [
    "## NEW PREDICTIONS\n",
    "\n",
    "For this test we will use some sms text not in the dataset and observe the prediction results."
   ]
  },
  {
   "cell_type": "code",
   "execution_count": 123,
   "id": "7351e748-d347-407e-b50b-e885531fbe39",
   "metadata": {},
   "outputs": [
    {
     "name": "stdout",
     "output_type": "stream",
     "text": [
      "\u001b[1m1/1\u001b[0m \u001b[32m━━━━━━━━━━━━━━━━━━━━\u001b[0m\u001b[37m\u001b[0m \u001b[1m1s\u001b[0m 522ms/step\n",
      "Prediction Results for Test SMS:\n",
      "=================================\n",
      "Original SMS: Congratulations! You've won a $1000 prize! click the link to claim. \n",
      "\n",
      "Model Predictions:\n",
      "ML Imbalanced: SPAM\n",
      "ML Balanced: SPAM\n",
      "DL Model: SPAM\n"
     ]
    }
   ],
   "source": [
    "# Test\n",
    "test_sms = \"Congratulations! You've won a $1000 prize! click the link to claim. \"\n",
    "results = predict_spam(test_sms)\n",
    "\n",
    "print(\"Prediction Results for Test SMS:\")\n",
    "print(\"=================================\")\n",
    "print(f\"Original SMS: {test_sms}\")\n",
    "print(\"\\nModel Predictions:\")\n",
    "for model, prediction in results.items():\n",
    "    print(f\"{model}: {prediction}\")"
   ]
  },
  {
   "cell_type": "code",
   "execution_count": 126,
   "id": "e21c6fd2-7508-4942-96c5-ec0c01d29aa3",
   "metadata": {},
   "outputs": [
    {
     "name": "stdout",
     "output_type": "stream",
     "text": [
      "\u001b[1m1/1\u001b[0m \u001b[32m━━━━━━━━━━━━━━━━━━━━\u001b[0m\u001b[37m\u001b[0m \u001b[1m0s\u001b[0m 130ms/step\n",
      "Prediction Results for Test SMS:\n",
      "=================================\n",
      "Original SMS: send your banque account details to this link by clicking here\n",
      "\n",
      "Model Predictions:\n",
      "ML Imbalanced: HAM\n",
      "ML Balanced: SPAM\n",
      "DL Model: HAM\n"
     ]
    }
   ],
   "source": [
    "# Test\n",
    "# test_sms = \"Hello my friend how have you been ? can you call me this evening please ?\"\n",
    "# test_sms = \"send $1000 to this acount number. \"\n",
    "test_sms = \"send your banque account details to this link by clicking here\"\n",
    "results = predict_spam(test_sms)\n",
    "\n",
    "print(\"Prediction Results for Test SMS:\")\n",
    "print(\"=================================\")\n",
    "print(f\"Original SMS: {test_sms}\")\n",
    "print(\"\\nModel Predictions:\")\n",
    "for model, prediction in results.items():\n",
    "    print(f\"{model}: {prediction}\")"
   ]
  },
  {
   "cell_type": "markdown",
   "id": "42e42a8d-0195-4466-96de-2cefb42416d9",
   "metadata": {},
   "source": [
    "# =============\n",
    "### END \n",
    "Dr. MAIGA\n",
    "# ============="
   ]
  },
  {
   "cell_type": "code",
   "execution_count": null,
   "id": "7aad9ed8-4920-4eda-bbfe-ce3d8aef27a7",
   "metadata": {},
   "outputs": [],
   "source": []
  }
 ],
 "metadata": {
  "kernelspec": {
   "display_name": "Python 3 (ipykernel)",
   "language": "python",
   "name": "python3"
  },
  "language_info": {
   "codemirror_mode": {
    "name": "ipython",
    "version": 3
   },
   "file_extension": ".py",
   "mimetype": "text/x-python",
   "name": "python",
   "nbconvert_exporter": "python",
   "pygments_lexer": "ipython3",
   "version": "3.12.4"
  }
 },
 "nbformat": 4,
 "nbformat_minor": 5
}
